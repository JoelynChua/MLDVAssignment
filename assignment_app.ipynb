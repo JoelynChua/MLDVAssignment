{
 "cells": [
  {
   "cell_type": "code",
   "execution_count": 1,
   "id": "8707f35c",
   "metadata": {},
   "outputs": [],
   "source": [
    "# Import the libraies\n",
    "import numpy as np\n",
    "from flask import Flask, request, render_template\n",
    "import joblib"
   ]
  },
  {
   "cell_type": "code",
   "execution_count": 2,
   "id": "664f49c6",
   "metadata": {},
   "outputs": [],
   "source": [
    "# Create the Flask app and load the trained model\n",
    "app = Flask(__name__)\n",
    "model = joblib.load('models/projectModel.pkl')"
   ]
  },
  {
   "cell_type": "code",
   "execution_count": 3,
   "id": "16604fcc",
   "metadata": {},
   "outputs": [],
   "source": [
    "# Define the '/' root route to display the content from index.html\n",
    "@app.route('/')\n",
    "def home():\n",
    "    return render_template('index.html')\n",
    "# @app.route('/results/')\n",
    "# def results():\n",
    "#     return render_template('results.html')"
   ]
  },
  {
   "cell_type": "code",
   "execution_count": 4,
   "id": "68409887",
   "metadata": {},
   "outputs": [],
   "source": [
    "# Define the '/predict' route to:\n",
    "# - Get form data and convert them to float values\n",
    "# - Convert form data to numpy array\n",
    "# - Pass form data to model for prediction\n",
    "\n",
    "@app.route('/predict',methods=['POST'])\n",
    "def predict():\n",
    "\n",
    "    form_data = [float(x) for x in request.form.values()]\n",
    "    features = [np.array(form_data)]\n",
    "    prediction = model.predict(features)\n",
    "\n",
    "\t# Format prediction text for display in \"index.html\"\n",
    "    return render_template('index.html', crop_prediction='The most suitable crop is {}'.format(prediction[0]))"
   ]
  },
  {
   "cell_type": "code",
   "execution_count": null,
   "id": "b14f46fc",
   "metadata": {},
   "outputs": [
    {
     "name": "stdout",
     "output_type": "stream",
     "text": [
      " * Serving Flask app '__main__' (lazy loading)\n",
      " * Environment: production\n",
      "\u001b[31m   WARNING: This is a development server. Do not use it in a production deployment.\u001b[0m\n",
      "\u001b[2m   Use a production WSGI server instead.\u001b[0m\n",
      " * Debug mode: off\n"
     ]
    },
    {
     "name": "stderr",
     "output_type": "stream",
     "text": [
      " * Running on http://127.0.0.1:5000/ (Press CTRL+C to quit)\n",
      "127.0.0.1 - - [16/Feb/2022 09:35:24] \"GET / HTTP/1.1\" 200 -\n",
      "127.0.0.1 - - [16/Feb/2022 09:35:24] \"GET /favicon.ico HTTP/1.1\" 404 -\n",
      "127.0.0.1 - - [16/Feb/2022 09:35:47] \"POST /predict HTTP/1.1\" 200 -\n",
      "127.0.0.1 - - [16/Feb/2022 09:35:57] \"GET / HTTP/1.1\" 200 -\n",
      "127.0.0.1 - - [16/Feb/2022 10:54:59] \"POST /predict HTTP/1.1\" 200 -\n",
      "127.0.0.1 - - [16/Feb/2022 10:55:41] \"POST /predict HTTP/1.1\" 200 -\n"
     ]
    }
   ],
   "source": [
    "if __name__ == '__main__':\n",
    "    app.run(debug=False)"
   ]
  },
  {
   "cell_type": "code",
   "execution_count": null,
   "id": "b50b4135",
   "metadata": {},
   "outputs": [],
   "source": []
  }
 ],
 "metadata": {
  "kernelspec": {
   "display_name": "Python 3 (ipykernel)",
   "language": "python",
   "name": "python3"
  },
  "language_info": {
   "codemirror_mode": {
    "name": "ipython",
    "version": 3
   },
   "file_extension": ".py",
   "mimetype": "text/x-python",
   "name": "python",
   "nbconvert_exporter": "python",
   "pygments_lexer": "ipython3",
   "version": "3.8.13"
  }
 },
 "nbformat": 4,
 "nbformat_minor": 5
}
